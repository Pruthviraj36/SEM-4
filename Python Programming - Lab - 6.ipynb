{
 "cells": [
  {
   "cell_type": "markdown",
   "metadata": {},
   "source": [
    "<a href='https://www.darshan.ac.in/'> <img src='https://www.darshan.ac.in/Content/media/DU_Logo.svg' width=\"250\" height=\"300\"/></a>\n",
    "<pre>\n",
    "<center><b><h1>Python Programming - 2301CS404</b></center>\n",
    "<center><b><h1>Lab - 6</b></center>    \n",
    "<pre>"
   ]
  },
  {
   "cell_type": "markdown",
   "metadata": {},
   "source": [
    "# Tuple"
   ]
  },
  {
   "cell_type": "markdown",
   "metadata": {},
   "source": [
    "### 01) WAP to find sum of tuple elements."
   ]
  },
  {
   "cell_type": "code",
   "execution_count": 1,
   "metadata": {},
   "outputs": [
    {
     "name": "stdout",
     "output_type": "stream",
     "text": [
      "71\n"
     ]
    }
   ],
   "source": [
    "t1 = (1,2,3,4,5,56)\n",
    "\n",
    "print(sum(t1))"
   ]
  },
  {
   "cell_type": "markdown",
   "metadata": {},
   "source": [
    "### 02) WAP to find Maximum and Minimum K elements in a given tuple."
   ]
  },
  {
   "cell_type": "code",
   "execution_count": 11,
   "metadata": {},
   "outputs": [
    {
     "name": "stdout",
     "output_type": "stream",
     "text": [
      "How much do you want: 5\n",
      "Minimum 5 elements: [1, 10, 50, 55, 60]\n",
      "Maximum 5elements: [55, 60, 80, 90, 200]\n"
     ]
    }
   ],
   "source": [
    "def find_max_min_k_elements(t, K):\n",
    "    if K > len(t):\n",
    "        print(\"K is larger than the length of the tuple\")\n",
    "        return\n",
    "    \n",
    "    sorted_tuple = sorted(t)\n",
    "    \n",
    "    min_k_elements = sorted_tuple[:K]\n",
    "    max_k_elements = sorted_tuple[-K:]\n",
    "    \n",
    "    return min_k_elements, max_k_elements\n",
    "\n",
    "t1 = (80,90,200,1,10,50,60,55)\n",
    "k = int(input('How much do you want: ')) \n",
    "\n",
    "min_k, max_k = find_max_min_k_elements(t1, k)\n",
    "\n",
    "print(f\"Minimum {k} elements: {min_k}\")\n",
    "print(f\"Maximum {k}elements: {max_k}\")\n"
   ]
  },
  {
   "cell_type": "markdown",
   "metadata": {},
   "source": [
    "### 03) WAP to find tuples which have all elements divisible by K from a list of tuples."
   ]
  },
  {
   "cell_type": "code",
   "execution_count": 14,
   "metadata": {},
   "outputs": [
    {
     "name": "stdout",
     "output_type": "stream",
     "text": [
      "Which divisible element do you want: 3\n",
      "Tuples with all elements divisible by 3 : [(3, 6, 9)]\n"
     ]
    }
   ],
   "source": [
    "def find_divisible_tuples(li, K):\n",
    "    divisible_tuples = []\n",
    "\n",
    "    for tpl in li:\n",
    "        if all(x % K == 0 for x in tpl):\n",
    "            divisible_tuples.append(tpl)\n",
    "    \n",
    "    return divisible_tuples\n",
    "\n",
    "li = [(1,2,3), (2,3,4), (2,4,6), (5,10,15), (3,6,9), (7,14,21)]\n",
    "K = int(input('Which divisible element do you want: '))\n",
    "result = find_divisible_tuples(li, K)\n",
    "print(\"Tuples with all elements divisible by\", K, \":\", result)"
   ]
  },
  {
   "cell_type": "markdown",
   "metadata": {},
   "source": [
    "### 04) WAP to create a list of tuples from given list having number and its cube in each tuple."
   ]
  },
  {
   "cell_type": "code",
   "execution_count": 15,
   "metadata": {},
   "outputs": [
    {
     "name": "stdout",
     "output_type": "stream",
     "text": [
      "List of tuples with number and its cube: [(1, 1), (2, 8), (3, 27), (4, 64), (5, 125)]\n"
     ]
    }
   ],
   "source": [
    "def create_cube_tuples(numbers):\n",
    "    cube_tuples = [(num, num ** 3) for num in numbers]\n",
    "    return cube_tuples\n",
    "\n",
    "numbers = [1, 2, 3, 4, 5]\n",
    "result = create_cube_tuples(numbers)\n",
    "print(\"List of tuples with number and its cube:\", result)"
   ]
  },
  {
   "cell_type": "markdown",
   "metadata": {},
   "source": [
    "### 05) WAP to find tuples with all positive elements from the given list of tuples."
   ]
  },
  {
   "cell_type": "code",
   "execution_count": 16,
   "metadata": {},
   "outputs": [
    {
     "name": "stdout",
     "output_type": "stream",
     "text": [
      "Tuples with all elements possible are : [(2, 4, 6)]\n"
     ]
    }
   ],
   "source": [
    "def find_positive_elements_in_tuple(li):\n",
    "    positive_elevents_of_tuples = []\n",
    "\n",
    "    for tpl in li:\n",
    "        if all(x > 0 for x in tpl):\n",
    "            positive_elevents_of_tuples.append(tpl)\n",
    "    \n",
    "    return positive_elevents_of_tuples\n",
    "\n",
    "li = [(1,-2,3), (-2,-3,-4), (2,4,6), (5,-10,-15), (-3,6,-9), (7,-14,-21)]\n",
    "result = find_positive_elements_in_tuple(li)\n",
    "print(\"Tuples with all elements possible are\", \":\", result)"
   ]
  },
  {
   "cell_type": "markdown",
   "metadata": {},
   "source": [
    "### 06) WAP to add tuple to list and vice – versa."
   ]
  },
  {
   "cell_type": "code",
   "execution_count": 21,
   "metadata": {},
   "outputs": [
    {
     "name": "stdout",
     "output_type": "stream",
     "text": [
      "Updated list after adding tuple: [1, 2, 3, (4, 5)]\n",
      "Tuple after adding list: (4, 5, [6, 7, 8])\n"
     ]
    }
   ],
   "source": [
    "def add_tuple_to_list(li, tu):\n",
    "    li.append(tu)\n",
    "    return li\n",
    "\n",
    "def add_list_to_tuple(li, tu):\n",
    "    lis = list(tu)\n",
    "    lis.append(li)\n",
    "    return tuple(lis)\n",
    "\n",
    "\n",
    "li = [1, 2, 3]\n",
    "tu = (4, 5)\n",
    "updated_list = add_tuple_to_list(li, tu)\n",
    "print(\"Updated list after adding tuple:\", updated_list)\n",
    "\n",
    "li1 = [6, 7, 8]\n",
    "list_as_tuple = add_list_to_tuple(li1, tu)\n",
    "print(\"Tuple after adding list:\", list_as_tuple)\n"
   ]
  },
  {
   "cell_type": "markdown",
   "metadata": {},
   "source": [
    "### 07) WAP to remove tuples from list of tuple of length K."
   ]
  },
  {
   "cell_type": "code",
   "execution_count": 29,
   "metadata": {},
   "outputs": [
    {
     "name": "stdout",
     "output_type": "stream",
     "text": [
      "[(-2, -3, -4, 1, 2, 6), (2, 4), (5, -10, -15, 4, 5, 6, 8), (-3, 6, -9, 1, 2, 3, 4, 8), (7, -14, -21)]\n"
     ]
    }
   ],
   "source": [
    "def remove_k_length(li, k):\n",
    "    for x in li[:]:\n",
    "        if len(x) == k:\n",
    "            li.remove(x)\n",
    "\n",
    "li = [(1,-2,3,3,5), (-2,-3,-4,1,2,6), (2,4), (5,-10,-15,4,5,6,8), (-3,6,-9,1,2,3,4,8), (7,-14,-21)]\n",
    "remove_k_length(li, 5)\n",
    "print(li)"
   ]
  },
  {
   "cell_type": "markdown",
   "metadata": {},
   "source": [
    "### 08) WAP to remove duplicates from tuple."
   ]
  },
  {
   "cell_type": "code",
   "execution_count": 31,
   "metadata": {},
   "outputs": [
    {
     "name": "stdout",
     "output_type": "stream",
     "text": [
      "(1, 2, 4, 5, 6, -4, -3, -2)\n"
     ]
    }
   ],
   "source": [
    "tu = (-2,-3,-4,1,2,6,2,2,4,5,4,4,5)\n",
    "st = set(tu)\n",
    "tu = tuple(st)\n",
    "print(tu)"
   ]
  },
  {
   "cell_type": "markdown",
   "metadata": {},
   "source": [
    "### 09) WAP to multiply adjacent elements of a tuple and print that resultant tuple."
   ]
  },
  {
   "cell_type": "code",
   "execution_count": 40,
   "metadata": {},
   "outputs": [
    {
     "name": "stdout",
     "output_type": "stream",
     "text": [
      "(6, 12, 20, 30, 42, 56, 72, 90, 110)\n"
     ]
    }
   ],
   "source": [
    "tup = (2, 3, 4, 5, 6 ,7, 8, 9, 10)\n",
    "print(tuple(i * (i+1) for i in tup))"
   ]
  },
  {
   "cell_type": "markdown",
   "metadata": {},
   "source": [
    "### 10) WAP to test if the given tuple is distinct or not."
   ]
  },
  {
   "cell_type": "code",
   "execution_count": 47,
   "metadata": {},
   "outputs": [
    {
     "name": "stdout",
     "output_type": "stream",
     "text": [
      "Enter list elements(comma seperated): 1,2,3,4,5,6,7,8,9,2\n",
      "duplicate\n"
     ]
    },
    {
     "data": {
      "text/plain": [
       "[1, 2, 3, 4, 5, 6, 7, 8, 9, 2]"
      ]
     },
     "execution_count": 47,
     "metadata": {},
     "output_type": "execute_result"
    }
   ],
   "source": [
    "li = input('Enter list elements(comma seperated): ').split(',')\n",
    "li = [int(i) for i in li]\n",
    "\n",
    "if list(set(li)) == li:\n",
    "    print('distinct')\n",
    "else:\n",
    "    print('duplicate')\n",
    "\n",
    "li"
   ]
  }
 ],
 "metadata": {
  "kernelspec": {
   "display_name": "Python 3 (ipykernel)",
   "language": "python",
   "name": "python3"
  },
  "language_info": {
   "codemirror_mode": {
    "name": "ipython",
    "version": 3
   },
   "file_extension": ".py",
   "mimetype": "text/x-python",
   "name": "python",
   "nbconvert_exporter": "python",
   "pygments_lexer": "ipython3",
   "version": "3.10.9"
  }
 },
 "nbformat": 4,
 "nbformat_minor": 4
}
