{
 "cells": [
  {
   "cell_type": "markdown",
   "metadata": {},
   "source": [
    "\n",
    "<a href='https://www.darshan.ac.in/'> <img src='https://www.darshan.ac.in/Content/media/DU_Logo.svg' width=\"250\" height=\"300\"/></a>\n",
    "<pre>\n",
    "<center><b><h1>Python Programming - 2301CS404</b></center>\n",
    "<center><b><h1>Lab - 2</b></center>    \n",
    "<pre>"
   ]
  },
  {
   "cell_type": "markdown",
   "metadata": {},
   "source": [
    "# if..else.."
   ]
  },
  {
   "cell_type": "markdown",
   "metadata": {},
   "source": [
    "### 01) WAP to check whether the given number is positive or negative."
   ]
  },
  {
   "cell_type": "code",
   "execution_count": null,
   "metadata": {},
   "outputs": [],
   "source": [
    "num = int(input(\"Enter a number\"))\n",
    "\n",
    "if (num > 0):\n",
    "    print(\"Number is positive\")\n",
    "else:\n",
    "    print(\"Number is Negative\")"
   ]
  },
  {
   "cell_type": "markdown",
   "metadata": {},
   "source": [
    "### 02) WAP to check whether the given number is odd or even."
   ]
  },
  {
   "cell_type": "code",
   "execution_count": null,
   "metadata": {},
   "outputs": [],
   "source": [
    "num = int(input(\"Enter a num\"))\n",
    "\n",
    "if (num % 2 == 0):\n",
    "    print(\"Number is even\")\n",
    "else:\n",
    "    print(\"Number is odd\")"
   ]
  },
  {
   "cell_type": "markdown",
   "metadata": {},
   "source": [
    "### 03) WAP to find out largest number from given two numbers using simple if and ternary operator."
   ]
  },
  {
   "cell_type": "code",
   "execution_count": null,
   "metadata": {},
   "outputs": [],
   "source": [
    "num1 = float(input(\"Enter a first num\"))\n",
    "num2 = float(input(\"Enter a second num\"))\n",
    "\n",
    "if (num1 > num2):\n",
    "    print(f\"{num1} is largest\")\n",
    "else:\n",
    "    print(f\"{num2} is largest\")\n",
    "\n",
    "largest = num1 if num1 > num2 else num2\n",
    "print(f\"{largest} is the largest\")"
   ]
  },
  {
   "cell_type": "markdown",
   "metadata": {},
   "source": [
    "### 04) WAP to find out largest number from given three numbers."
   ]
  },
  {
   "cell_type": "code",
   "execution_count": null,
   "metadata": {},
   "outputs": [],
   "source": [
    "x = float(input(\"Enter a first number : \"))\n",
    "y = float(input(\"Enter a second number : \"))\n",
    "z = float(input(\"Enter a third number : \"))\n",
    "\n",
    "if (x > y):\n",
    "    if (x > z):\n",
    "        print(f\"{x} is greatest\")\n",
    "    else:\n",
    "        print(f\"{z} is greatest\")\n",
    "else:\n",
    "    if (y > z):\n",
    "        print(f\"{y} is greatest\")\n",
    "    else:\n",
    "        print(f\"{z} is greatest\")"
   ]
  },
  {
   "cell_type": "markdown",
   "metadata": {},
   "source": [
    "### 05) WAP to check whether the given year is leap year or not.\n",
    "[If a year can be divisible by 4 but not divisible by 100 then it is leap year but if it is divisible by 400 then it is leap year]"
   ]
  },
  {
   "cell_type": "code",
   "execution_count": null,
   "metadata": {},
   "outputs": [],
   "source": [
    "year = int(input(\"Enter year: \"))\n",
    "\n",
    "if (year % 4 == 0 and (year % 100 != 0 or year % 400 == 0)):\n",
    "    print(f\"{year} is a leap year\")\n",
    "else:\n",
    "    print(f\"{year} is not a leap year\")\n"
   ]
  },
  {
   "cell_type": "markdown",
   "metadata": {},
   "source": [
    "### 06) WAP in python to display the name of the day according to the number given by the user."
   ]
  },
  {
   "cell_type": "code",
   "execution_count": null,
   "metadata": {},
   "outputs": [],
   "source": [
    "def day_name_from_number():\n",
    "    days = {\n",
    "        1: \"Monday\",\n",
    "        2: \"Tuesday\",\n",
    "        3: \"Wednesday\",\n",
    "        4: \"Thursday\",\n",
    "        5: \"Friday\",\n",
    "        6: \"Saturday\",\n",
    "        7: \"Sunday\"\n",
    "    }\n",
    "    \n",
    "    try:\n",
    "        num = int(input(\"Enter a number (1-7): \"))\n",
    "        \n",
    "        if num in days:\n",
    "            print(f\"The day is: {days[num]}\")\n",
    "        else:\n",
    "            print(\"Invalid input! Please enter a number between 1 and 7.\")\n",
    "    except ValueError:\n",
    "        print(\"Invalid input! Please enter a valid number.\")\n",
    "\n",
    "day_name_from_number()\n"
   ]
  },
  {
   "cell_type": "markdown",
   "metadata": {},
   "source": [
    "### 07) WAP to implement simple calculator which performs (add,sub,mul,div) of two no. based on user input."
   ]
  },
  {
   "cell_type": "code",
   "execution_count": null,
   "metadata": {},
   "outputs": [],
   "source": [
    "a = float(input(\"Enter first number: \"))\n",
    "op = input(\"Enter operation (+, -, *, /): \")\n",
    "b = float(input(\"Enter second number: \"))\n",
    "\n",
    "if op == '+':\n",
    "    print(f\"Addition is: {a + b}\")\n",
    "elif op == '-':\n",
    "    print(f\"Subtraction is: {a - b}\")\n",
    "elif op == '*':\n",
    "    print(f\"Multiplication is: {a * b}\")\n",
    "elif op == '/':\n",
    "    if b == 0:\n",
    "        print(\"Denominator cannot be 0. Please enter another number.\")\n",
    "        b = float(input(\"Enter a denominator other than 0: \"))\n",
    "    print(f\"Division is: {a / b}\")\n",
    "else:\n",
    "    print(\"Invalid operation. Please enter a valid operator (+, -, *, /).\")"
   ]
  },
  {
   "cell_type": "markdown",
   "metadata": {},
   "source": [
    "### 08) WAP to read marks of five subjects. Calculate percentage and print class accordingly. \n",
    "Fail below 35 </br>\n",
    "Pass Class between 35 to 45 </br>\n",
    "Second Class</br>\n",
    "between 45 to 60</br>\n",
    "First Class between 60 to 70</br> \n",
    "Distinction if more than 70"
   ]
  },
  {
   "cell_type": "code",
   "execution_count": null,
   "metadata": {},
   "outputs": [],
   "source": [
    "sub1 = float(input(\"Enter Marks from Sub1 : \"))\n",
    "sub2 = float(input(\"Enter Marks from Sub2 : \"))\n",
    "sub3 = float(input(\"Enter Marks from Sub3 : \"))\n",
    "sub4 = float(input(\"Enter Marks from Sub4 : \"))\n",
    "sub5 = float(input(\"Enter Marks from Sub5 : \"))\n",
    "\n",
    "per = (sub1+sub2+sub3+sub4+sub5)/5\n",
    "\n",
    "if per > 70:\n",
    "    print(\"Distinction\")\n",
    "elif per >= 60:\n",
    "    print(\"First Class\")\n",
    "elif per >= 45:\n",
    "    print(\"Second Class\")\n",
    "elif per >= 35:\n",
    "    print(\"Pass\")\n",
    "else:\n",
    "    print(\"Fail\")"
   ]
  },
  {
   "cell_type": "markdown",
   "metadata": {},
   "source": [
    "### 09) Three sides of a triangle are entered through the keyboard, WAP to check whether the triangle is isosceles, equilateral, scalene or right-angled triangle."
   ]
  },
  {
   "cell_type": "code",
   "execution_count": null,
   "metadata": {},
   "outputs": [],
   "source": [
    "import math\n",
    "\n",
    "p = float(input(\"Enter first side of triangle : \"))\n",
    "q = float(input(\"Enter second side of triangle : \"))\n",
    "r = float(input(\"Enter third side of triangle : \"))\n",
    "\n",
    "if p == q or p == r :\n",
    "    print(\"This is an Isosceles Trianle\")\n",
    "elif p == q and p == r :\n",
    "    print(\"This is an Equilateral Trinagle\")\n",
    "elif pow(p, 2) == pow(q, 2) + pow(r, 2) or pow(q, 2) == pow(p, 2) + pow(r, 2) or pow(r, 2) == pow(q, 2) + pow(p, 2):\n",
    "    print(\"This is a right angle trinagle\")\n",
    "else:\n",
    "    print(\"This is  Scalene Trinagle\")"
   ]
  },
  {
   "cell_type": "markdown",
   "metadata": {},
   "source": [
    "### 10) WAP to find the second largest number among three user input numbers."
   ]
  },
  {
   "cell_type": "code",
   "execution_count": null,
   "metadata": {},
   "outputs": [],
   "source": [
    "d = float(input(\"Enter first num : \"))\n",
    "e = float(input(\"Enter second num : \"))\n",
    "f = float(input(\"Enter third num : \"))\n",
    "\n",
    "if d > e and d > f :\n",
    "    if e > f :\n",
    "        print(f\"{e} is second largest\")\n",
    "    else:\n",
    "        print(f\"{f} is second largest\")\n",
    "elif e > d and e > f :\n",
    "    if d > f :\n",
    "        print(f\"{d} is second largest\")\n",
    "    else:\n",
    "        print(f\"{f} is second largest\")"
   ]
  },
  {
   "cell_type": "markdown",
   "metadata": {},
   "source": [
    "### 11) WAP to calculate electricity bill based on following criteria. Which takes the unit from the user.\n",
    "a. First 1 to 50 units – Rs. 2.60/unit</br>\n",
    "b. Next 50 to 100 units – Rs. 3.25/unit</br>\n",
    "c. Next 100 to 200 units – Rs. 5.26/unit</br>\n",
    "d. above 200 units – Rs. 8.45/unit"
   ]
  },
  {
   "cell_type": "code",
   "execution_count": null,
   "metadata": {},
   "outputs": [],
   "source": [
    "units = int(input(\"Enter number of units : \"))\n",
    "\n",
    "bill = 0\n",
    "\n",
    "if units > 200 :\n",
    "    bill = 8.45 * units\n",
    "    print(f\"electricity bill is = {bill}\")\n",
    "elif units > 100 :\n",
    "    bill = 5.36 * units\n",
    "    print(f\"electricity bill is = {bill}\")\n",
    "elif units > 50 :\n",
    "    bill = 3.25 * units\n",
    "    print(f\"electricity bill is = {bill}\")\n",
    "elif units >= 1 :\n",
    "    bill = 2.6 * units\n",
    "    print(f\"electricity bill is = {bill}\")"
   ]
  }
 ],
 "metadata": {
  "kernelspec": {
   "display_name": "Python 3",
   "language": "python",
   "name": "python3"
  },
  "language_info": {
   "codemirror_mode": {
    "name": "ipython",
    "version": 3
   },
   "file_extension": ".py",
   "mimetype": "text/x-python",
   "name": "python",
   "nbconvert_exporter": "python",
   "pygments_lexer": "ipython3",
   "version": "3.11.9"
  }
 },
 "nbformat": 4,
 "nbformat_minor": 4
}
