{
 "cells": [
  {
   "cell_type": "markdown",
   "metadata": {},
   "source": [
    "\n",
    "<a href='https://www.darshan.ac.in/'> <img src='https://www.darshan.ac.in/Content/media/DU_Logo.svg' width=\"250\" height=\"300\"/></a>\n",
    "<pre>\n",
    "<center><b><h1>Python Programming - 2301CS404</b></center>\n",
    "<center><b><h1>Lab - 3</b></center>    \n",
    "<pre>"
   ]
  },
  {
   "cell_type": "markdown",
   "metadata": {},
   "source": [
    "<h2>Chauhan Pruthviraj&nbsp;&nbsp;&nbsp;&nbsp;&nbsp;23010101046&nbsp;&nbsp;&nbsp;&nbsp;&nbsp;CSE-4A0-121<h2>"
   ]
  },
  {
   "cell_type": "markdown",
   "metadata": {},
   "source": [
    "# for and while loop"
   ]
  },
  {
   "cell_type": "markdown",
   "metadata": {},
   "source": [
    "### 01) WAP to print 1 to 10."
   ]
  },
  {
   "cell_type": "code",
   "execution_count": null,
   "metadata": {},
   "outputs": [],
   "source": [
    "for i in range(1, 11, 1):\n",
    "    print(i)"
   ]
  },
  {
   "cell_type": "markdown",
   "metadata": {},
   "source": [
    "### 02) WAP to print 1 to n."
   ]
  },
  {
   "cell_type": "code",
   "execution_count": null,
   "metadata": {},
   "outputs": [],
   "source": [
    "num = int(input('Enter a num'))\n",
    "\n",
    "for i in range(1, num + 1):\n",
    "    print(i)"
   ]
  },
  {
   "cell_type": "markdown",
   "metadata": {},
   "source": [
    "### 03) WAP to print odd numbers between 1 to n."
   ]
  },
  {
   "cell_type": "code",
   "execution_count": null,
   "metadata": {},
   "outputs": [],
   "source": [
    "num = int(input('Enter num'))\n",
    "\n",
    "for i in range(1, num + 1):\n",
    "    if i % 2 != 0 :\n",
    "        print(i)"
   ]
  },
  {
   "cell_type": "markdown",
   "metadata": {},
   "source": [
    "### 04) WAP to print numbers between two given numbers which is divisible by 2 but not divisible by 3."
   ]
  },
  {
   "cell_type": "code",
   "execution_count": null,
   "metadata": {},
   "outputs": [],
   "source": [
    "num1 = int(input('Enter num1'))\n",
    "num2 = int(input('Enter num2'))\n",
    "\n",
    "for i in range(num1, num2 + 1, 1) :\n",
    "    if i%2 == 0 and i%3 != 0 :\n",
    "        print(i)"
   ]
  },
  {
   "cell_type": "markdown",
   "metadata": {},
   "source": [
    "### 05) WAP to print sum of 1 to n numbers."
   ]
  },
  {
   "cell_type": "code",
   "execution_count": null,
   "metadata": {},
   "outputs": [],
   "source": [
    "n = int(input('Enter num'))\n",
    "sum = 0\n",
    "\n",
    "for i in range(1, n + 1):\n",
    "    sum += i\n",
    "\n",
    "print(sum)"
   ]
  },
  {
   "cell_type": "markdown",
   "metadata": {},
   "source": [
    "### 06) WAP to print sum of series 1 + 4 + 9 + 16 + 25 + 36 + ...n."
   ]
  },
  {
   "cell_type": "code",
   "execution_count": null,
   "metadata": {},
   "outputs": [],
   "source": [
    "def sum_of_series(n) :\n",
    "    return (n * (n + 1) * (2*n + 1)) // 6\n",
    "\n",
    "n = int(input('Enter N'))\n",
    "\n",
    "print(sum_of_series(n))"
   ]
  },
  {
   "cell_type": "markdown",
   "metadata": {},
   "source": [
    "### 07) WAP to print sum of series 1 – 2 + 3 – 4 + 5 – 6 + 7 ... n."
   ]
  },
  {
   "cell_type": "code",
   "execution_count": null,
   "metadata": {},
   "outputs": [],
   "source": [
    "def sum_of_series(n):\n",
    "    if n % 2 == 0:\n",
    "        return -(n // 2)\n",
    "    else:\n",
    "        return (n + 1) // 2\n",
    "\n",
    "n = int(input(\"Enter the value of n: \"))\n",
    "\n",
    "if n > 0:\n",
    "    print(f\"The sum of the series is: {sum_of_series(n)}\")\n",
    "else:\n",
    "    print(\"Please enter a positive integer.\")"
   ]
  },
  {
   "cell_type": "markdown",
   "metadata": {},
   "source": [
    "### 08) WAP to print multiplication table of given number."
   ]
  },
  {
   "cell_type": "code",
   "execution_count": null,
   "metadata": {},
   "outputs": [],
   "source": [
    "table = int(input('Enter the table : '))\n",
    "\n",
    "for i in range(1, 11, 1) :\n",
    "    print(f'{table} X {i} = {table * i}')"
   ]
  },
  {
   "cell_type": "markdown",
   "metadata": {},
   "source": [
    "### 09) WAP to find factorial of the given number."
   ]
  },
  {
   "cell_type": "code",
   "execution_count": null,
   "metadata": {},
   "outputs": [],
   "source": [
    "def factorial(n) :\n",
    "    fact = 1\n",
    "\n",
    "    for i in range(2, n+1) :\n",
    "        fact *= i\n",
    "\n",
    "    return fact\n",
    "\n",
    "num3 = int(input('Enter the num'))\n",
    "\n",
    "print(f'{num3}! = {factorial(num3)}')"
   ]
  },
  {
   "cell_type": "markdown",
   "metadata": {},
   "source": [
    "### 10) WAP to find factors of the given number."
   ]
  },
  {
   "cell_type": "code",
   "execution_count": null,
   "metadata": {},
   "outputs": [],
   "source": [
    "def factors(n):\n",
    "    factor_list = []\n",
    "    for i in range(1, n + 1):\n",
    "        if n % i == 0:\n",
    "            factor_list.append(i)\n",
    "    return factor_list\n",
    "\n",
    "num = int(input('Enter a number: '))\n",
    "\n",
    "print(factors(num))"
   ]
  },
  {
   "cell_type": "markdown",
   "metadata": {},
   "source": [
    "### 11) WAP to find whether the given number is prime or not."
   ]
  },
  {
   "cell_type": "code",
   "execution_count": null,
   "metadata": {},
   "outputs": [],
   "source": [
    "def prime(n):\n",
    "    if n <= 1:\n",
    "        print('not prime')\n",
    "        return\n",
    "    \n",
    "    for i in range(2, int(n**0.5) + 1) :\n",
    "        if n % i == 0:\n",
    "            print('not prime')\n",
    "            return\n",
    "            \n",
    "    print('prime')\n",
    "\n",
    "num = int(input('Enter a number: '))\n",
    "prime(num)"
   ]
  },
  {
   "cell_type": "markdown",
   "metadata": {},
   "source": [
    "### 12) WAP to print sum of digits of given number."
   ]
  },
  {
   "cell_type": "code",
   "execution_count": null,
   "metadata": {},
   "outputs": [],
   "source": [
    "num = int(input('Enter a num : '))\n",
    "sum = 0\n",
    "\n",
    "while num > 0:\n",
    "    rem = num%10\n",
    "    sum += rem\n",
    "    num = num // 10\n",
    "\n",
    "print(sum)"
   ]
  },
  {
   "cell_type": "markdown",
   "metadata": {},
   "source": [
    "### 13) WAP to check whether the given number is palindrome or not"
   ]
  },
  {
   "cell_type": "code",
   "execution_count": null,
   "metadata": {},
   "outputs": [],
   "source": [
    "def isPalindrome(n):\n",
    "    n = str(n)\n",
    "    length = len(n)\n",
    "    \n",
    "    for i in range(length // 2):\n",
    "        if n[i] != n[length - i - 1]:\n",
    "            return False\n",
    "    return True\n",
    "\n",
    "num = int(input('Enter a number to check palindrome : '))\n",
    "\n",
    "print(isPalindrome(num))"
   ]
  },
  {
   "cell_type": "markdown",
   "metadata": {},
   "source": [
    "### 14) WAP to print GCD of given two numbers."
   ]
  },
  {
   "cell_type": "code",
   "execution_count": null,
   "metadata": {},
   "outputs": [],
   "source": [
    "def gcd(x, y):\n",
    "    if y == 0 :\n",
    "        return abs(x)\n",
    "    else:\n",
    "        return gcd(y, x % y)\n",
    "\n",
    "x = int(input('Enter first number : '))\n",
    "y = int(input('Enter second number : '))\n",
    "\n",
    "print(gcd(x, y))"
   ]
  }
 ],
 "metadata": {
  "kernelspec": {
   "display_name": "Python 3",
   "language": "python",
   "name": "python3"
  },
  "language_info": {
   "codemirror_mode": {
    "name": "ipython",
    "version": 3
   },
   "file_extension": ".py",
   "mimetype": "text/x-python",
   "name": "python",
   "nbconvert_exporter": "python",
   "pygments_lexer": "ipython3",
   "version": "3.11.9"
  }
 },
 "nbformat": 4,
 "nbformat_minor": 4
}
